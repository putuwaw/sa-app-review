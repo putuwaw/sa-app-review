{
  "nbformat": 4,
  "nbformat_minor": 0,
  "metadata": {
    "colab": {
      "provenance": []
    },
    "kernelspec": {
      "name": "python3",
      "display_name": "Python 3"
    },
    "language_info": {
      "name": "python"
    }
  },
  "cells": [
    {
      "cell_type": "markdown",
      "source": [
        "# Project: Sentiment Analysis (Scraping)"
      ],
      "metadata": {
        "id": "QWHHMURJa_r0"
      }
    },
    {
      "cell_type": "markdown",
      "source": [
        "## Profile\n",
        "Name: Putu Widyantara Artanta Wibawa\n",
        "\n",
        "Dicoding: https://www.dicoding.com/users/putu_waw\n",
        "\n"
      ],
      "metadata": {
        "id": "4RTLsEjHbHUk"
      }
    },
    {
      "cell_type": "markdown",
      "source": [
        "## Import Library"
      ],
      "metadata": {
        "id": "KzdIQZVybLpi"
      }
    },
    {
      "cell_type": "markdown",
      "source": [
        "We will need to install `google_play_scraper`"
      ],
      "metadata": {
        "id": "xXe3xbYpbk2I"
      }
    },
    {
      "cell_type": "code",
      "execution_count": 2,
      "metadata": {
        "colab": {
          "base_uri": "https://localhost:8080/"
        },
        "id": "BqPcQyQAaxYv",
        "outputId": "e626af0b-4a1f-4863-d4bf-afdd9b89b17c"
      },
      "outputs": [
        {
          "output_type": "stream",
          "name": "stdout",
          "text": [
            "\u001b[?25l     \u001b[90m━━━━━━━━━━━━━━━━━━━━━━━━━━━━━━━━━━━━━━━━\u001b[0m \u001b[32m0.0/50.2 kB\u001b[0m \u001b[31m?\u001b[0m eta \u001b[36m-:--:--\u001b[0m\r\u001b[2K     \u001b[90m━━━━━━━━━━━━━━━━━━━━━━━━━━━━━━━━━━━━━━━━\u001b[0m \u001b[32m50.2/50.2 kB\u001b[0m \u001b[31m2.0 MB/s\u001b[0m eta \u001b[36m0:00:00\u001b[0m\n",
            "\u001b[?25h"
          ]
        }
      ],
      "source": [
        "!pip install -q google_play_scraper"
      ]
    },
    {
      "cell_type": "code",
      "source": [
        "from google_play_scraper import reviews_all, reviews, Sort\n",
        "import pandas as pd"
      ],
      "metadata": {
        "id": "e_Y9R6tvbMty"
      },
      "execution_count": 3,
      "outputs": []
    },
    {
      "cell_type": "markdown",
      "source": [
        "## Data Collection"
      ],
      "metadata": {
        "id": "An39DRH6bZ5i"
      }
    },
    {
      "cell_type": "markdown",
      "source": [
        "Collecting Shopee review data."
      ],
      "metadata": {
        "id": "p6CUQcBUbiTM"
      }
    },
    {
      "cell_type": "code",
      "source": [
        "df = pd.DataFrame()\n",
        "shopee_reviews = reviews(\n",
        "      'com.shopee.id',\n",
        "      lang='id',\n",
        "      country='id',\n",
        "      sort=Sort.MOST_RELEVANT,\n",
        "      count=30_000,\n",
        "      filter_score_with=5\n",
        ")\n",
        "df = pd.DataFrame(shopee_reviews[0])"
      ],
      "metadata": {
        "id": "ZNYUY9r-bYo-"
      },
      "execution_count": 4,
      "outputs": []
    },
    {
      "cell_type": "code",
      "source": [
        "df.head()"
      ],
      "metadata": {
        "colab": {
          "base_uri": "https://localhost:8080/",
          "height": 521
        },
        "id": "h-jWvvIBbbvj",
        "outputId": "54d69ed1-4ee5-4591-8dd3-8a2b77315d8d"
      },
      "execution_count": 5,
      "outputs": [
        {
          "output_type": "execute_result",
          "data": {
            "text/plain": [
              "                               reviewId         userName  \\\n",
              "0  2abb18c6-fe3b-412b-935c-158a067a7ca2  Pengguna Google   \n",
              "1  d16a5ce0-05f2-4cff-9ecc-4a30844b24d6  Pengguna Google   \n",
              "2  595e8b18-5f29-4774-a1ac-81f4b3ccee3d  Pengguna Google   \n",
              "3  378d7e30-34ad-4173-9826-f6a5d662420a  Pengguna Google   \n",
              "4  404597cd-41f0-4e7a-94bf-5ed96a206a57  Pengguna Google   \n",
              "\n",
              "                                           userImage  \\\n",
              "0  https://play-lh.googleusercontent.com/EGemoI2N...   \n",
              "1  https://play-lh.googleusercontent.com/EGemoI2N...   \n",
              "2  https://play-lh.googleusercontent.com/EGemoI2N...   \n",
              "3  https://play-lh.googleusercontent.com/EGemoI2N...   \n",
              "4  https://play-lh.googleusercontent.com/EGemoI2N...   \n",
              "\n",
              "                                             content  score  thumbsUpCount  \\\n",
              "0  Senangnya belanja dishopee,tapi yang kesalnya ...      5             86   \n",
              "1  Lemot,sering gangguan,layar sering ngeblank.. ...      5            381   \n",
              "2  Aplikasi nya bagus,kalau mau belanja online po...      5              3   \n",
              "3  Pengelaman aplikasi shopee nya bekerja dengan ...      5           3552   \n",
              "4  Salah satu Aplikasi terfavv aplikasi belanja y...      5           4996   \n",
              "\n",
              "  reviewCreatedVersion                  at  \\\n",
              "0              3.30.30 2024-09-24 02:37:36   \n",
              "1              3.34.40 2024-09-23 12:11:41   \n",
              "2              3.34.40 2024-09-25 14:05:04   \n",
              "3              3.32.19 2024-08-23 20:54:50   \n",
              "4              3.30.30 2024-08-01 12:35:54   \n",
              "\n",
              "                                        replyContent           repliedAt  \\\n",
              "0  Hai kak, maaf ya udh bikin resah terkait kenda... 2024-09-24 03:36:13   \n",
              "1  Hai ka, maaf ya untuk kendala nya, terkait ken... 2022-11-18 19:15:54   \n",
              "2  Hai kak, terimakasih ya buat reviewnya. makasi... 2024-09-25 15:54:34   \n",
              "3  Hi kak, maaf ya udah buat kamu bingung. Terkai... 2024-07-22 22:15:29   \n",
              "4  Hii kak Jusma Desfianti , makasih ya buat revi... 2024-08-01 13:33:24   \n",
              "\n",
              "  appVersion  \n",
              "0    3.30.30  \n",
              "1    3.34.40  \n",
              "2    3.34.40  \n",
              "3    3.32.19  \n",
              "4    3.30.30  "
            ],
            "text/html": [
              "\n",
              "  <div id=\"df-b0bc263f-7de2-4870-ba9b-566699c6bf60\" class=\"colab-df-container\">\n",
              "    <div>\n",
              "<style scoped>\n",
              "    .dataframe tbody tr th:only-of-type {\n",
              "        vertical-align: middle;\n",
              "    }\n",
              "\n",
              "    .dataframe tbody tr th {\n",
              "        vertical-align: top;\n",
              "    }\n",
              "\n",
              "    .dataframe thead th {\n",
              "        text-align: right;\n",
              "    }\n",
              "</style>\n",
              "<table border=\"1\" class=\"dataframe\">\n",
              "  <thead>\n",
              "    <tr style=\"text-align: right;\">\n",
              "      <th></th>\n",
              "      <th>reviewId</th>\n",
              "      <th>userName</th>\n",
              "      <th>userImage</th>\n",
              "      <th>content</th>\n",
              "      <th>score</th>\n",
              "      <th>thumbsUpCount</th>\n",
              "      <th>reviewCreatedVersion</th>\n",
              "      <th>at</th>\n",
              "      <th>replyContent</th>\n",
              "      <th>repliedAt</th>\n",
              "      <th>appVersion</th>\n",
              "    </tr>\n",
              "  </thead>\n",
              "  <tbody>\n",
              "    <tr>\n",
              "      <th>0</th>\n",
              "      <td>2abb18c6-fe3b-412b-935c-158a067a7ca2</td>\n",
              "      <td>Pengguna Google</td>\n",
              "      <td>https://play-lh.googleusercontent.com/EGemoI2N...</td>\n",
              "      <td>Senangnya belanja dishopee,tapi yang kesalnya ...</td>\n",
              "      <td>5</td>\n",
              "      <td>86</td>\n",
              "      <td>3.30.30</td>\n",
              "      <td>2024-09-24 02:37:36</td>\n",
              "      <td>Hai kak, maaf ya udh bikin resah terkait kenda...</td>\n",
              "      <td>2024-09-24 03:36:13</td>\n",
              "      <td>3.30.30</td>\n",
              "    </tr>\n",
              "    <tr>\n",
              "      <th>1</th>\n",
              "      <td>d16a5ce0-05f2-4cff-9ecc-4a30844b24d6</td>\n",
              "      <td>Pengguna Google</td>\n",
              "      <td>https://play-lh.googleusercontent.com/EGemoI2N...</td>\n",
              "      <td>Lemot,sering gangguan,layar sering ngeblank.. ...</td>\n",
              "      <td>5</td>\n",
              "      <td>381</td>\n",
              "      <td>3.34.40</td>\n",
              "      <td>2024-09-23 12:11:41</td>\n",
              "      <td>Hai ka, maaf ya untuk kendala nya, terkait ken...</td>\n",
              "      <td>2022-11-18 19:15:54</td>\n",
              "      <td>3.34.40</td>\n",
              "    </tr>\n",
              "    <tr>\n",
              "      <th>2</th>\n",
              "      <td>595e8b18-5f29-4774-a1ac-81f4b3ccee3d</td>\n",
              "      <td>Pengguna Google</td>\n",
              "      <td>https://play-lh.googleusercontent.com/EGemoI2N...</td>\n",
              "      <td>Aplikasi nya bagus,kalau mau belanja online po...</td>\n",
              "      <td>5</td>\n",
              "      <td>3</td>\n",
              "      <td>3.34.40</td>\n",
              "      <td>2024-09-25 14:05:04</td>\n",
              "      <td>Hai kak, terimakasih ya buat reviewnya. makasi...</td>\n",
              "      <td>2024-09-25 15:54:34</td>\n",
              "      <td>3.34.40</td>\n",
              "    </tr>\n",
              "    <tr>\n",
              "      <th>3</th>\n",
              "      <td>378d7e30-34ad-4173-9826-f6a5d662420a</td>\n",
              "      <td>Pengguna Google</td>\n",
              "      <td>https://play-lh.googleusercontent.com/EGemoI2N...</td>\n",
              "      <td>Pengelaman aplikasi shopee nya bekerja dengan ...</td>\n",
              "      <td>5</td>\n",
              "      <td>3552</td>\n",
              "      <td>3.32.19</td>\n",
              "      <td>2024-08-23 20:54:50</td>\n",
              "      <td>Hi kak, maaf ya udah buat kamu bingung. Terkai...</td>\n",
              "      <td>2024-07-22 22:15:29</td>\n",
              "      <td>3.32.19</td>\n",
              "    </tr>\n",
              "    <tr>\n",
              "      <th>4</th>\n",
              "      <td>404597cd-41f0-4e7a-94bf-5ed96a206a57</td>\n",
              "      <td>Pengguna Google</td>\n",
              "      <td>https://play-lh.googleusercontent.com/EGemoI2N...</td>\n",
              "      <td>Salah satu Aplikasi terfavv aplikasi belanja y...</td>\n",
              "      <td>5</td>\n",
              "      <td>4996</td>\n",
              "      <td>3.30.30</td>\n",
              "      <td>2024-08-01 12:35:54</td>\n",
              "      <td>Hii kak Jusma Desfianti , makasih ya buat revi...</td>\n",
              "      <td>2024-08-01 13:33:24</td>\n",
              "      <td>3.30.30</td>\n",
              "    </tr>\n",
              "  </tbody>\n",
              "</table>\n",
              "</div>\n",
              "    <div class=\"colab-df-buttons\">\n",
              "\n",
              "  <div class=\"colab-df-container\">\n",
              "    <button class=\"colab-df-convert\" onclick=\"convertToInteractive('df-b0bc263f-7de2-4870-ba9b-566699c6bf60')\"\n",
              "            title=\"Convert this dataframe to an interactive table.\"\n",
              "            style=\"display:none;\">\n",
              "\n",
              "  <svg xmlns=\"http://www.w3.org/2000/svg\" height=\"24px\" viewBox=\"0 -960 960 960\">\n",
              "    <path d=\"M120-120v-720h720v720H120Zm60-500h600v-160H180v160Zm220 220h160v-160H400v160Zm0 220h160v-160H400v160ZM180-400h160v-160H180v160Zm440 0h160v-160H620v160ZM180-180h160v-160H180v160Zm440 0h160v-160H620v160Z\"/>\n",
              "  </svg>\n",
              "    </button>\n",
              "\n",
              "  <style>\n",
              "    .colab-df-container {\n",
              "      display:flex;\n",
              "      gap: 12px;\n",
              "    }\n",
              "\n",
              "    .colab-df-convert {\n",
              "      background-color: #E8F0FE;\n",
              "      border: none;\n",
              "      border-radius: 50%;\n",
              "      cursor: pointer;\n",
              "      display: none;\n",
              "      fill: #1967D2;\n",
              "      height: 32px;\n",
              "      padding: 0 0 0 0;\n",
              "      width: 32px;\n",
              "    }\n",
              "\n",
              "    .colab-df-convert:hover {\n",
              "      background-color: #E2EBFA;\n",
              "      box-shadow: 0px 1px 2px rgba(60, 64, 67, 0.3), 0px 1px 3px 1px rgba(60, 64, 67, 0.15);\n",
              "      fill: #174EA6;\n",
              "    }\n",
              "\n",
              "    .colab-df-buttons div {\n",
              "      margin-bottom: 4px;\n",
              "    }\n",
              "\n",
              "    [theme=dark] .colab-df-convert {\n",
              "      background-color: #3B4455;\n",
              "      fill: #D2E3FC;\n",
              "    }\n",
              "\n",
              "    [theme=dark] .colab-df-convert:hover {\n",
              "      background-color: #434B5C;\n",
              "      box-shadow: 0px 1px 3px 1px rgba(0, 0, 0, 0.15);\n",
              "      filter: drop-shadow(0px 1px 2px rgba(0, 0, 0, 0.3));\n",
              "      fill: #FFFFFF;\n",
              "    }\n",
              "  </style>\n",
              "\n",
              "    <script>\n",
              "      const buttonEl =\n",
              "        document.querySelector('#df-b0bc263f-7de2-4870-ba9b-566699c6bf60 button.colab-df-convert');\n",
              "      buttonEl.style.display =\n",
              "        google.colab.kernel.accessAllowed ? 'block' : 'none';\n",
              "\n",
              "      async function convertToInteractive(key) {\n",
              "        const element = document.querySelector('#df-b0bc263f-7de2-4870-ba9b-566699c6bf60');\n",
              "        const dataTable =\n",
              "          await google.colab.kernel.invokeFunction('convertToInteractive',\n",
              "                                                    [key], {});\n",
              "        if (!dataTable) return;\n",
              "\n",
              "        const docLinkHtml = 'Like what you see? Visit the ' +\n",
              "          '<a target=\"_blank\" href=https://colab.research.google.com/notebooks/data_table.ipynb>data table notebook</a>'\n",
              "          + ' to learn more about interactive tables.';\n",
              "        element.innerHTML = '';\n",
              "        dataTable['output_type'] = 'display_data';\n",
              "        await google.colab.output.renderOutput(dataTable, element);\n",
              "        const docLink = document.createElement('div');\n",
              "        docLink.innerHTML = docLinkHtml;\n",
              "        element.appendChild(docLink);\n",
              "      }\n",
              "    </script>\n",
              "  </div>\n",
              "\n",
              "\n",
              "<div id=\"df-64ece7a2-59b7-4d10-aff3-78065ac2e723\">\n",
              "  <button class=\"colab-df-quickchart\" onclick=\"quickchart('df-64ece7a2-59b7-4d10-aff3-78065ac2e723')\"\n",
              "            title=\"Suggest charts\"\n",
              "            style=\"display:none;\">\n",
              "\n",
              "<svg xmlns=\"http://www.w3.org/2000/svg\" height=\"24px\"viewBox=\"0 0 24 24\"\n",
              "     width=\"24px\">\n",
              "    <g>\n",
              "        <path d=\"M19 3H5c-1.1 0-2 .9-2 2v14c0 1.1.9 2 2 2h14c1.1 0 2-.9 2-2V5c0-1.1-.9-2-2-2zM9 17H7v-7h2v7zm4 0h-2V7h2v10zm4 0h-2v-4h2v4z\"/>\n",
              "    </g>\n",
              "</svg>\n",
              "  </button>\n",
              "\n",
              "<style>\n",
              "  .colab-df-quickchart {\n",
              "      --bg-color: #E8F0FE;\n",
              "      --fill-color: #1967D2;\n",
              "      --hover-bg-color: #E2EBFA;\n",
              "      --hover-fill-color: #174EA6;\n",
              "      --disabled-fill-color: #AAA;\n",
              "      --disabled-bg-color: #DDD;\n",
              "  }\n",
              "\n",
              "  [theme=dark] .colab-df-quickchart {\n",
              "      --bg-color: #3B4455;\n",
              "      --fill-color: #D2E3FC;\n",
              "      --hover-bg-color: #434B5C;\n",
              "      --hover-fill-color: #FFFFFF;\n",
              "      --disabled-bg-color: #3B4455;\n",
              "      --disabled-fill-color: #666;\n",
              "  }\n",
              "\n",
              "  .colab-df-quickchart {\n",
              "    background-color: var(--bg-color);\n",
              "    border: none;\n",
              "    border-radius: 50%;\n",
              "    cursor: pointer;\n",
              "    display: none;\n",
              "    fill: var(--fill-color);\n",
              "    height: 32px;\n",
              "    padding: 0;\n",
              "    width: 32px;\n",
              "  }\n",
              "\n",
              "  .colab-df-quickchart:hover {\n",
              "    background-color: var(--hover-bg-color);\n",
              "    box-shadow: 0 1px 2px rgba(60, 64, 67, 0.3), 0 1px 3px 1px rgba(60, 64, 67, 0.15);\n",
              "    fill: var(--button-hover-fill-color);\n",
              "  }\n",
              "\n",
              "  .colab-df-quickchart-complete:disabled,\n",
              "  .colab-df-quickchart-complete:disabled:hover {\n",
              "    background-color: var(--disabled-bg-color);\n",
              "    fill: var(--disabled-fill-color);\n",
              "    box-shadow: none;\n",
              "  }\n",
              "\n",
              "  .colab-df-spinner {\n",
              "    border: 2px solid var(--fill-color);\n",
              "    border-color: transparent;\n",
              "    border-bottom-color: var(--fill-color);\n",
              "    animation:\n",
              "      spin 1s steps(1) infinite;\n",
              "  }\n",
              "\n",
              "  @keyframes spin {\n",
              "    0% {\n",
              "      border-color: transparent;\n",
              "      border-bottom-color: var(--fill-color);\n",
              "      border-left-color: var(--fill-color);\n",
              "    }\n",
              "    20% {\n",
              "      border-color: transparent;\n",
              "      border-left-color: var(--fill-color);\n",
              "      border-top-color: var(--fill-color);\n",
              "    }\n",
              "    30% {\n",
              "      border-color: transparent;\n",
              "      border-left-color: var(--fill-color);\n",
              "      border-top-color: var(--fill-color);\n",
              "      border-right-color: var(--fill-color);\n",
              "    }\n",
              "    40% {\n",
              "      border-color: transparent;\n",
              "      border-right-color: var(--fill-color);\n",
              "      border-top-color: var(--fill-color);\n",
              "    }\n",
              "    60% {\n",
              "      border-color: transparent;\n",
              "      border-right-color: var(--fill-color);\n",
              "    }\n",
              "    80% {\n",
              "      border-color: transparent;\n",
              "      border-right-color: var(--fill-color);\n",
              "      border-bottom-color: var(--fill-color);\n",
              "    }\n",
              "    90% {\n",
              "      border-color: transparent;\n",
              "      border-bottom-color: var(--fill-color);\n",
              "    }\n",
              "  }\n",
              "</style>\n",
              "\n",
              "  <script>\n",
              "    async function quickchart(key) {\n",
              "      const quickchartButtonEl =\n",
              "        document.querySelector('#' + key + ' button');\n",
              "      quickchartButtonEl.disabled = true;  // To prevent multiple clicks.\n",
              "      quickchartButtonEl.classList.add('colab-df-spinner');\n",
              "      try {\n",
              "        const charts = await google.colab.kernel.invokeFunction(\n",
              "            'suggestCharts', [key], {});\n",
              "      } catch (error) {\n",
              "        console.error('Error during call to suggestCharts:', error);\n",
              "      }\n",
              "      quickchartButtonEl.classList.remove('colab-df-spinner');\n",
              "      quickchartButtonEl.classList.add('colab-df-quickchart-complete');\n",
              "    }\n",
              "    (() => {\n",
              "      let quickchartButtonEl =\n",
              "        document.querySelector('#df-64ece7a2-59b7-4d10-aff3-78065ac2e723 button');\n",
              "      quickchartButtonEl.style.display =\n",
              "        google.colab.kernel.accessAllowed ? 'block' : 'none';\n",
              "    })();\n",
              "  </script>\n",
              "</div>\n",
              "\n",
              "    </div>\n",
              "  </div>\n"
            ],
            "application/vnd.google.colaboratory.intrinsic+json": {
              "type": "dataframe",
              "variable_name": "df",
              "summary": "{\n  \"name\": \"df\",\n  \"rows\": 30000,\n  \"fields\": [\n    {\n      \"column\": \"reviewId\",\n      \"properties\": {\n        \"dtype\": \"string\",\n        \"num_unique_values\": 30000,\n        \"samples\": [\n          \"f31a6199-72af-4ce6-8f8c-77346ee3afcb\",\n          \"db14aebd-dda7-47fe-98e6-10eb32debd71\",\n          \"702c259c-613a-4e36-9aba-98d8a2a2ece8\"\n        ],\n        \"semantic_type\": \"\",\n        \"description\": \"\"\n      }\n    },\n    {\n      \"column\": \"userName\",\n      \"properties\": {\n        \"dtype\": \"category\",\n        \"num_unique_values\": 1,\n        \"samples\": [\n          \"Pengguna Google\"\n        ],\n        \"semantic_type\": \"\",\n        \"description\": \"\"\n      }\n    },\n    {\n      \"column\": \"userImage\",\n      \"properties\": {\n        \"dtype\": \"category\",\n        \"num_unique_values\": 1,\n        \"samples\": [\n          \"https://play-lh.googleusercontent.com/EGemoI2NTXmTsBVtJqk8jxF9rh8ApRWfsIMQSt2uE4OcpQqbFu7f7NbTK05lx80nuSijCz7sc3a277R67g\"\n        ],\n        \"semantic_type\": \"\",\n        \"description\": \"\"\n      }\n    },\n    {\n      \"column\": \"content\",\n      \"properties\": {\n        \"dtype\": \"string\",\n        \"num_unique_values\": 29885,\n        \"samples\": [\n          \"Sangat puas dg aplikasi shopee lebih muda berbelanja dan ad vocernya lg jdinya belanja d shopee murah2\"\n        ],\n        \"semantic_type\": \"\",\n        \"description\": \"\"\n      }\n    },\n    {\n      \"column\": \"score\",\n      \"properties\": {\n        \"dtype\": \"number\",\n        \"std\": 0,\n        \"min\": 5,\n        \"max\": 5,\n        \"num_unique_values\": 1,\n        \"samples\": [\n          5\n        ],\n        \"semantic_type\": \"\",\n        \"description\": \"\"\n      }\n    },\n    {\n      \"column\": \"thumbsUpCount\",\n      \"properties\": {\n        \"dtype\": \"number\",\n        \"std\": 119,\n        \"min\": 0,\n        \"max\": 7702,\n        \"num_unique_values\": 361,\n        \"samples\": [\n          43\n        ],\n        \"semantic_type\": \"\",\n        \"description\": \"\"\n      }\n    },\n    {\n      \"column\": \"reviewCreatedVersion\",\n      \"properties\": {\n        \"dtype\": \"category\",\n        \"num_unique_values\": 374,\n        \"samples\": [\n          \"3.22.30\"\n        ],\n        \"semantic_type\": \"\",\n        \"description\": \"\"\n      }\n    },\n    {\n      \"column\": \"at\",\n      \"properties\": {\n        \"dtype\": \"date\",\n        \"min\": \"2018-09-15 06:34:58\",\n        \"max\": \"2024-09-26 06:44:56\",\n        \"num_unique_values\": 29988,\n        \"samples\": [\n          \"2020-12-30 11:43:48\"\n        ],\n        \"semantic_type\": \"\",\n        \"description\": \"\"\n      }\n    },\n    {\n      \"column\": \"replyContent\",\n      \"properties\": {\n        \"dtype\": \"category\",\n        \"num_unique_values\": 11501,\n        \"samples\": [\n          \"Hi kak, makasih ya buat bintang 5 nya. Moga selalu puas dg aplikasi shopee. jgn lupa buat pantau trs sosmed Shopee utk info event & promo kece lainnya, biar km ga ketinggalan. Kalo ada kendala/pertanyaan lainnya bisa DM ke Social Media kita @ShopeeID/@Shopeecare. Stay safe\\ud83d\\ude4f^FX\"\n        ],\n        \"semantic_type\": \"\",\n        \"description\": \"\"\n      }\n    },\n    {\n      \"column\": \"repliedAt\",\n      \"properties\": {\n        \"dtype\": \"date\",\n        \"min\": \"2016-03-16 13:00:54\",\n        \"max\": \"2024-09-25 18:39:49\",\n        \"num_unique_values\": 22461,\n        \"samples\": [\n          \"2024-09-16 09:20:29\"\n        ],\n        \"semantic_type\": \"\",\n        \"description\": \"\"\n      }\n    },\n    {\n      \"column\": \"appVersion\",\n      \"properties\": {\n        \"dtype\": \"category\",\n        \"num_unique_values\": 374,\n        \"samples\": [\n          \"3.22.30\"\n        ],\n        \"semantic_type\": \"\",\n        \"description\": \"\"\n      }\n    }\n  ]\n}"
            }
          },
          "metadata": {},
          "execution_count": 5
        }
      ]
    },
    {
      "cell_type": "code",
      "source": [
        "df.shape"
      ],
      "metadata": {
        "colab": {
          "base_uri": "https://localhost:8080/"
        },
        "id": "xBM0AO4-bcoS",
        "outputId": "0317dd75-ab38-42fc-e465-c0f5dd04785a"
      },
      "execution_count": 6,
      "outputs": [
        {
          "output_type": "execute_result",
          "data": {
            "text/plain": [
              "(30000, 11)"
            ]
          },
          "metadata": {},
          "execution_count": 6
        }
      ]
    },
    {
      "cell_type": "code",
      "source": [
        "df = df[[\"content\", \"score\"]]"
      ],
      "metadata": {
        "id": "ldlsqfambeUT"
      },
      "execution_count": 7,
      "outputs": []
    },
    {
      "cell_type": "code",
      "source": [
        "# save data\n",
        "df.to_csv(\"dataset.csv\", index=False)"
      ],
      "metadata": {
        "id": "zDTWr40Ybe-a"
      },
      "execution_count": 8,
      "outputs": []
    }
  ]
}